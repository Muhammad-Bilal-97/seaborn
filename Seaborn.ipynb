{
 "cells": [
  {
   "cell_type": "markdown",
   "id": "2598c441",
   "metadata": {},
   "source": [
    "# Distribution Plot"
   ]
  },
  {
   "cell_type": "code",
   "execution_count": null,
   "id": "f59929cd",
   "metadata": {},
   "outputs": [],
   "source": [
    "import seaborn as sns"
   ]
  },
  {
   "cell_type": "code",
   "execution_count": null,
   "id": "5e338f71",
   "metadata": {},
   "outputs": [],
   "source": [
    "%matplotlib inline"
   ]
  },
  {
   "cell_type": "code",
   "execution_count": null,
   "id": "a64dd5e8",
   "metadata": {},
   "outputs": [],
   "source": [
    "# build-in dataset\n",
    "tips = sns.load_dataset('tips')"
   ]
  },
  {
   "cell_type": "code",
   "execution_count": null,
   "id": "e7780fb9",
   "metadata": {},
   "outputs": [],
   "source": [
    "tips.head()"
   ]
  },
  {
   "cell_type": "code",
   "execution_count": null,
   "id": "c6b160b1",
   "metadata": {},
   "outputs": [],
   "source": [
    "tips.tail()"
   ]
  },
  {
   "cell_type": "code",
   "execution_count": null,
   "id": "9b468c8c",
   "metadata": {},
   "outputs": [],
   "source": [
    "# distplot = distribution plot for single variable\n",
    "sns.distplot(tips['total_bill'])"
   ]
  },
  {
   "cell_type": "code",
   "execution_count": null,
   "id": "928d1dde",
   "metadata": {},
   "outputs": [],
   "source": [
    "# if we don't want to show the curve, we use kde\n",
    "# kdr = kernel density function\n",
    "sns.distplot(tips['total_bill'], kde=False)"
   ]
  },
  {
   "cell_type": "code",
   "execution_count": null,
   "id": "d6df3e65",
   "metadata": {},
   "outputs": [],
   "source": [
    "# to increase the number of histograms we use bins\n",
    "# bin is uni-varient, means only variable can be plot\n",
    "sns.distplot(tips['total_bill'], kde=False, bins=30)"
   ]
  },
  {
   "cell_type": "code",
   "execution_count": null,
   "id": "057792a7",
   "metadata": {},
   "outputs": [],
   "source": [
    "sns.distplot(tips['total_bill'], kde=False, bins=100)"
   ]
  },
  {
   "cell_type": "code",
   "execution_count": null,
   "id": "fe8d1e2e",
   "metadata": {},
   "outputs": [],
   "source": [
    "# if we want to plot b/w two variable\n",
    "# by-default scatter plot\n",
    "sns.jointplot(x='total_bill', y='tip', data=tips)"
   ]
  },
  {
   "cell_type": "code",
   "execution_count": null,
   "id": "4f03189c",
   "metadata": {},
   "outputs": [],
   "source": [
    "# kind is used to change the type of plot\n",
    "sns.jointplot(x='total_bill', y='tip', data=tips, kind='scatter')"
   ]
  },
  {
   "cell_type": "code",
   "execution_count": null,
   "id": "8cb57643",
   "metadata": {},
   "outputs": [],
   "source": [
    "sns.jointplot(x='total_bill', y='tip', data=tips, kind='reg')"
   ]
  },
  {
   "cell_type": "code",
   "execution_count": null,
   "id": "7629fe91",
   "metadata": {},
   "outputs": [],
   "source": [
    "sns.jointplot(x='total_bill', y='tip', data=tips, kind='hex')"
   ]
  },
  {
   "cell_type": "code",
   "execution_count": null,
   "id": "4e4d9072",
   "metadata": {},
   "outputs": [],
   "source": [
    "sns.jointplot(x='total_bill', y='tip', data=tips, kind='resid')"
   ]
  },
  {
   "cell_type": "code",
   "execution_count": null,
   "id": "0a73640f",
   "metadata": {},
   "outputs": [],
   "source": [
    "sns.jointplot(x='total_bill', y='tip', data=tips, kind='kde')"
   ]
  },
  {
   "cell_type": "code",
   "execution_count": null,
   "id": "033a8245",
   "metadata": {},
   "outputs": [],
   "source": [
    "# pairplot\n",
    "# don't deal in categorical values\n",
    "sns.pairplot(tips)"
   ]
  },
  {
   "cell_type": "code",
   "execution_count": null,
   "id": "235b9184",
   "metadata": {},
   "outputs": [],
   "source": [
    "sns.pairplot(tips, hue='sex')"
   ]
  },
  {
   "cell_type": "code",
   "execution_count": null,
   "id": "b96a3f02",
   "metadata": {},
   "outputs": [],
   "source": [
    "sns.pairplot(tips, hue='smoker')"
   ]
  },
  {
   "cell_type": "code",
   "execution_count": null,
   "id": "0b8d79d6",
   "metadata": {},
   "outputs": [],
   "source": [
    "# rugplot\n",
    "# uni-varient\n",
    "sns.rugplot(tips['total_bill'])"
   ]
  },
  {
   "cell_type": "markdown",
   "id": "6e63f32f",
   "metadata": {},
   "source": [
    "# Categorical Plot\n"
   ]
  },
  {
   "cell_type": "code",
   "execution_count": null,
   "id": "ca93f8f1",
   "metadata": {},
   "outputs": [],
   "source": [
    "# deals with the columns which have categories"
   ]
  },
  {
   "cell_type": "code",
   "execution_count": null,
   "id": "fd58250e",
   "metadata": {},
   "outputs": [],
   "source": [
    "sns.barplot(x='smoker', y='total_bill', data=tips)"
   ]
  },
  {
   "cell_type": "code",
   "execution_count": null,
   "id": "7d3c3d33",
   "metadata": {},
   "outputs": [],
   "source": [
    "import numpy as np"
   ]
  },
  {
   "cell_type": "code",
   "execution_count": null,
   "id": "366ead92",
   "metadata": {},
   "outputs": [],
   "source": [
    "# estimator is a mathematical function\n",
    "sns.barplot(x='smoker', y='total_bill', data=tips, estimator=np.std)"
   ]
  },
  {
   "cell_type": "code",
   "execution_count": null,
   "id": "fd79ae7b",
   "metadata": {},
   "outputs": [],
   "source": [
    "sns.countplot(x='smoker', data=tips)"
   ]
  },
  {
   "cell_type": "code",
   "execution_count": null,
   "id": "733a4905",
   "metadata": {},
   "outputs": [],
   "source": [
    "# box plot\n",
    "sns.boxplot(x='day', y='total_bill', data=tips)"
   ]
  },
  {
   "cell_type": "code",
   "execution_count": null,
   "id": "bcfa49e1",
   "metadata": {},
   "outputs": [],
   "source": [
    "sns.boxplot(data=tips, orient='h')"
   ]
  },
  {
   "cell_type": "code",
   "execution_count": null,
   "id": "96c3657a",
   "metadata": {},
   "outputs": [],
   "source": [
    "sns.boxplot(x='day', y='total_bill', hue='smoker', data=tips)"
   ]
  },
  {
   "cell_type": "code",
   "execution_count": null,
   "id": "a944ec2f",
   "metadata": {},
   "outputs": [],
   "source": [
    "# adv version of box plot\n",
    "sns.violinplot(x='day', y='total_bill', data=tips)"
   ]
  },
  {
   "cell_type": "code",
   "execution_count": null,
   "id": "5656e754",
   "metadata": {},
   "outputs": [],
   "source": [
    "sns.violinplot(x='day', y='total_bill', data=tips, hue='sex')"
   ]
  },
  {
   "cell_type": "code",
   "execution_count": null,
   "id": "39237ad4",
   "metadata": {},
   "outputs": [],
   "source": [
    "sns.violinplot(x='day', y='total_bill', data=tips, hue='sex', split=True)"
   ]
  },
  {
   "cell_type": "code",
   "execution_count": null,
   "id": "75db49f0",
   "metadata": {},
   "outputs": [],
   "source": [
    "sns.stripplot(x='day', y='total_bill', data=tips)"
   ]
  },
  {
   "cell_type": "code",
   "execution_count": null,
   "id": "40d715db",
   "metadata": {},
   "outputs": [],
   "source": [
    "sns.stripplot(x='day', y='total_bill', data=tips, jitter=True)"
   ]
  },
  {
   "cell_type": "code",
   "execution_count": null,
   "id": "ed55ea92",
   "metadata": {},
   "outputs": [],
   "source": [
    "sns.stripplot(x='day', y='total_bill', data=tips, hue='sex')"
   ]
  },
  {
   "cell_type": "code",
   "execution_count": null,
   "id": "1d59482d",
   "metadata": {},
   "outputs": [],
   "source": [
    "sns.stripplot(x='day', y='total_bill', data=tips, hue='sex', jitter=True)"
   ]
  },
  {
   "cell_type": "code",
   "execution_count": null,
   "id": "3ae90b8b",
   "metadata": {},
   "outputs": [],
   "source": [
    "sns.stripplot(x='day', y='total_bill', data=tips, hue='sex', jitter=True, split=True)"
   ]
  },
  {
   "cell_type": "code",
   "execution_count": null,
   "id": "a50f8418",
   "metadata": {},
   "outputs": [],
   "source": [
    "sns.swarmplot(x='day', y='total_bill', data=tips)"
   ]
  },
  {
   "cell_type": "code",
   "execution_count": null,
   "id": "fc1d7a01",
   "metadata": {},
   "outputs": [],
   "source": [
    "sns.swarmplot(x='day', y='total_bill', data=tips, hue='sex')"
   ]
  },
  {
   "cell_type": "code",
   "execution_count": null,
   "id": "7a173125",
   "metadata": {},
   "outputs": [],
   "source": [
    "sns.swarmplot(x='day', y='total_bill', data=tips, hue='sex', split=True)"
   ]
  },
  {
   "cell_type": "code",
   "execution_count": null,
   "id": "bcd05a34",
   "metadata": {},
   "outputs": [],
   "source": [
    "sns.violinplot(x='day', y='total_bill', data=tips)\n",
    "sns.swarmplot(x='day', y='total_bill', data=tips, color='black', size=4)"
   ]
  },
  {
   "cell_type": "code",
   "execution_count": null,
   "id": "57058d30",
   "metadata": {},
   "outputs": [],
   "source": [
    "sns.factorplot(x='day', y='total_bill', data=tips)"
   ]
  },
  {
   "cell_type": "code",
   "execution_count": null,
   "id": "ef2ef1e3",
   "metadata": {},
   "outputs": [],
   "source": [
    "sns.factorplot(x='day', y='total_bill', data=tips, kind=\"bar\")"
   ]
  },
  {
   "cell_type": "code",
   "execution_count": null,
   "id": "fc320f8e",
   "metadata": {},
   "outputs": [],
   "source": [
    "sns.factorplot(x='day', y='total_bill', data=tips, kind=\"violin\")"
   ]
  },
  {
   "cell_type": "code",
   "execution_count": null,
   "id": "ad4fbbbd",
   "metadata": {},
   "outputs": [],
   "source": [
    "sns.factorplot(x='day', y='total_bill', data=tips, kind=\"swarm\")"
   ]
  },
  {
   "cell_type": "code",
   "execution_count": null,
   "id": "b01a7c97",
   "metadata": {},
   "outputs": [],
   "source": [
    "sns.factorplot(x='day', y='total_bill', data=tips, kind=\"strip\")"
   ]
  },
  {
   "cell_type": "code",
   "execution_count": null,
   "id": "9a086dcc",
   "metadata": {},
   "outputs": [],
   "source": [
    "sns.factorplot(x='day', y='total_bill', data=tips, kind=\"box\")"
   ]
  },
  {
   "cell_type": "markdown",
   "id": "69396aa4",
   "metadata": {},
   "source": [
    "# Matrix Plot\n"
   ]
  },
  {
   "cell_type": "code",
   "execution_count": null,
   "id": "0810d084",
   "metadata": {},
   "outputs": [],
   "source": [
    "flight = sns.load_dataset('flights')"
   ]
  },
  {
   "cell_type": "code",
   "execution_count": null,
   "id": "9713b2ab",
   "metadata": {},
   "outputs": [],
   "source": [
    "flight.head()"
   ]
  },
  {
   "cell_type": "code",
   "execution_count": null,
   "id": "f1d9281f",
   "metadata": {},
   "outputs": [],
   "source": [
    "flight.tail()"
   ]
  },
  {
   "cell_type": "code",
   "execution_count": null,
   "id": "8c3a173e",
   "metadata": {},
   "outputs": [],
   "source": [
    "# heatmap, for this data should be in matrix form\n",
    "\n",
    "tips.corr()"
   ]
  },
  {
   "cell_type": "code",
   "execution_count": null,
   "id": "6cc9dc19",
   "metadata": {},
   "outputs": [],
   "source": [
    "sns.heatmap(tips.corr())"
   ]
  },
  {
   "cell_type": "code",
   "execution_count": null,
   "id": "f8d954b7",
   "metadata": {},
   "outputs": [],
   "source": [
    "# cmap= color_map\n",
    "sns.heatmap(tips.corr(), cmap='coolwarm')"
   ]
  },
  {
   "cell_type": "code",
   "execution_count": null,
   "id": "53bd9768",
   "metadata": {},
   "outputs": [],
   "source": [
    "sns.heatmap(tips.corr(), cmap='coolwarm', annot=True)"
   ]
  },
  {
   "cell_type": "code",
   "execution_count": null,
   "id": "0aa793ba",
   "metadata": {},
   "outputs": [],
   "source": [
    "fp = flight.pivot_table(values='passengers', index='month', columns='year')"
   ]
  },
  {
   "cell_type": "code",
   "execution_count": null,
   "id": "59ccdd3b",
   "metadata": {},
   "outputs": [],
   "source": [
    "fp"
   ]
  },
  {
   "cell_type": "code",
   "execution_count": null,
   "id": "ecf50cbf",
   "metadata": {},
   "outputs": [],
   "source": [
    "sns.heatmap(fp)"
   ]
  },
  {
   "cell_type": "code",
   "execution_count": null,
   "id": "e09067a1",
   "metadata": {},
   "outputs": [],
   "source": [
    "sns.heatmap(fp, cmap='magma')"
   ]
  },
  {
   "cell_type": "code",
   "execution_count": null,
   "id": "4cf6a4c7",
   "metadata": {},
   "outputs": [],
   "source": [
    "sns.heatmap(fp, cmap='magma', linecolor='white', linewidths=1)"
   ]
  },
  {
   "cell_type": "code",
   "execution_count": null,
   "id": "8e92e01f",
   "metadata": {},
   "outputs": [],
   "source": [
    "# cluster map\n",
    "sns.clustermap(fp)"
   ]
  },
  {
   "cell_type": "code",
   "execution_count": null,
   "id": "a9c81453",
   "metadata": {},
   "outputs": [],
   "source": [
    "sns.clustermap(fp, standard_scale=1)"
   ]
  },
  {
   "cell_type": "markdown",
   "id": "de7387c0",
   "metadata": {},
   "source": [
    "# Grid Plot\n"
   ]
  },
  {
   "cell_type": "code",
   "execution_count": null,
   "id": "2237ed1f",
   "metadata": {},
   "outputs": [],
   "source": [
    "iris = sns.load_dataset('iris')"
   ]
  },
  {
   "cell_type": "code",
   "execution_count": null,
   "id": "5f1c1e0e",
   "metadata": {},
   "outputs": [],
   "source": [
    "iris.head()"
   ]
  },
  {
   "cell_type": "code",
   "execution_count": null,
   "id": "bb20f1db",
   "metadata": {},
   "outputs": [],
   "source": [
    "iris['species'].unique()"
   ]
  },
  {
   "cell_type": "code",
   "execution_count": null,
   "id": "0755c8ff",
   "metadata": {},
   "outputs": [],
   "source": [
    "sns.pairplot(iris)"
   ]
  },
  {
   "cell_type": "code",
   "execution_count": null,
   "id": "2ee12c27",
   "metadata": {},
   "outputs": [],
   "source": [
    "sns.PairGrid(iris)"
   ]
  },
  {
   "cell_type": "code",
   "execution_count": null,
   "id": "f9c18c6a",
   "metadata": {},
   "outputs": [],
   "source": [
    "import matplotlib.pyplot as plt\n",
    "\n",
    "\n",
    "g = sns.PairGrid(iris)\n",
    "g.map(plt.scatter)"
   ]
  },
  {
   "cell_type": "code",
   "execution_count": null,
   "id": "dc3f1b72",
   "metadata": {},
   "outputs": [],
   "source": [
    "g = sns.PairGrid(iris)\n",
    "g.map_diag(plt.hist)\n",
    "g.map_upper(plt.scatter)\n",
    "g.map_lower(sns.kdeplot)"
   ]
  },
  {
   "cell_type": "code",
   "execution_count": null,
   "id": "4fbfb5aa",
   "metadata": {},
   "outputs": [],
   "source": [
    "g = sns.FacetGrid(tips, col='time', row='smoker')"
   ]
  },
  {
   "cell_type": "code",
   "execution_count": null,
   "id": "d6cf4543",
   "metadata": {},
   "outputs": [],
   "source": [
    "g = sns.FacetGrid(tips, col='time', row='smoker')\n",
    "g= g.map(plt.hist, 'total_bill')"
   ]
  },
  {
   "cell_type": "code",
   "execution_count": null,
   "id": "76133cec",
   "metadata": {},
   "outputs": [],
   "source": [
    "g = sns.FacetGrid(tips, col='time', row='smoker', hue='sex')\n",
    "g= g.map(plt.hist, 'total_bill')"
   ]
  },
  {
   "cell_type": "code",
   "execution_count": null,
   "id": "f06a4d00",
   "metadata": {},
   "outputs": [],
   "source": [
    "g = sns.FacetGrid(tips, col='time', row='smoker', hue='sex')\n",
    "g= g.map(plt.scatter, 'total_bill', 'tip').add_legend()"
   ]
  },
  {
   "cell_type": "markdown",
   "id": "b1f31d2c",
   "metadata": {},
   "source": [
    "# Regression Plot"
   ]
  },
  {
   "cell_type": "code",
   "execution_count": null,
   "id": "794c18e8",
   "metadata": {},
   "outputs": [],
   "source": [
    "sns.lmplot(x='total_bill', y='tip', data=tips)"
   ]
  },
  {
   "cell_type": "code",
   "execution_count": null,
   "id": "8b2286ea",
   "metadata": {},
   "outputs": [],
   "source": [
    "sns.lmplot(x='total_bill', y='tip', data=tips, hue='smoker')"
   ]
  },
  {
   "cell_type": "code",
   "execution_count": null,
   "id": "7800a384",
   "metadata": {},
   "outputs": [],
   "source": [
    "sns.lmplot(x='total_bill', y='tip', data=tips, hue='smoker', markers=['o', 'v'], scatter_kws={'s':40})"
   ]
  },
  {
   "cell_type": "code",
   "execution_count": null,
   "id": "c31b4691",
   "metadata": {},
   "outputs": [],
   "source": [
    "sns.lmplot(x='total_bill', y='tip', data=tips, hue='smoker', markers=['o', 'v'], scatter_kws={'s':40}, col='sex')"
   ]
  },
  {
   "cell_type": "code",
   "execution_count": null,
   "id": "b467349a",
   "metadata": {},
   "outputs": [],
   "source": [
    "sns.lmplot(x='total_bill', y='tip', data=tips, scatter_kws={'s':40}, col='sex')"
   ]
  },
  {
   "cell_type": "code",
   "execution_count": null,
   "id": "00527d30",
   "metadata": {},
   "outputs": [],
   "source": [
    "sns.lmplot(x='total_bill', y='tip', data=tips, scatter_kws={'s':40}, col='sex', row='time')"
   ]
  },
  {
   "cell_type": "code",
   "execution_count": null,
   "id": "d7677125",
   "metadata": {},
   "outputs": [],
   "source": [
    "sns.lmplot(x='total_bill', y='tip', data=tips, col='day', hue='sex')"
   ]
  },
  {
   "cell_type": "code",
   "execution_count": null,
   "id": "bd7d99ae",
   "metadata": {},
   "outputs": [],
   "source": [
    "sns.lmplot(x='total_bill', y='tip', data=tips, col='day', hue='sex', aspect=0.6, size=8)"
   ]
  },
  {
   "cell_type": "markdown",
   "id": "533cc9f9",
   "metadata": {},
   "source": [
    "# Style and Colors\n"
   ]
  },
  {
   "cell_type": "code",
   "execution_count": null,
   "id": "8eb4514f",
   "metadata": {},
   "outputs": [],
   "source": [
    "tips.head()"
   ]
  },
  {
   "cell_type": "code",
   "execution_count": null,
   "id": "fb9cf410",
   "metadata": {},
   "outputs": [],
   "source": [
    "sns.countplot(x='smoker', data=tips)"
   ]
  },
  {
   "cell_type": "code",
   "execution_count": null,
   "id": "93e581a0",
   "metadata": {},
   "outputs": [],
   "source": [
    "sns.set_style('darkgrid')\n",
    "sns.countplot(x='smoker', data=tips)"
   ]
  },
  {
   "cell_type": "code",
   "execution_count": null,
   "id": "37350fee",
   "metadata": {},
   "outputs": [],
   "source": [
    "sns.set_style('ticks')\n",
    "sns.countplot(x='smoker', data=tips, palette='deep')\n",
    "sns.despine()"
   ]
  },
  {
   "cell_type": "code",
   "execution_count": null,
   "id": "fb4afe3e",
   "metadata": {},
   "outputs": [],
   "source": [
    "sns.set_style('ticks')\n",
    "sns.countplot(x='smoker', data=tips, palette='deep')\n",
    "sns.despine(left=True)"
   ]
  },
  {
   "cell_type": "code",
   "execution_count": null,
   "id": "e699a1de",
   "metadata": {},
   "outputs": [],
   "source": [
    "plt.figure(figsize=(12,3))\n",
    "sns.countplot(x='smoker', data=tips)"
   ]
  },
  {
   "cell_type": "code",
   "execution_count": null,
   "id": "42ed8ce3",
   "metadata": {},
   "outputs": [],
   "source": [
    "sns.lmplot(x='total_bill', y=\"tip\", size=2, aspect=4, data=tips)"
   ]
  },
  {
   "cell_type": "code",
   "execution_count": null,
   "id": "70ed298c",
   "metadata": {},
   "outputs": [],
   "source": [
    "sns.set_context('poster')\n",
    "sns.countplot(x='smoker', data=tips, palette='coolwarm')"
   ]
  },
  {
   "cell_type": "code",
   "execution_count": null,
   "id": "95f200c6",
   "metadata": {},
   "outputs": [],
   "source": [
    "sns.set_context('paper')\n",
    "sns.countplot(x='smoker', data=tips, palette='coolwarm')"
   ]
  },
  {
   "cell_type": "code",
   "execution_count": null,
   "id": "046d6a83",
   "metadata": {},
   "outputs": [],
   "source": [
    "sns.set_context('talk', font_scale=2)\n",
    "sns.countplot(x='smoker', data=tips, palette='coolwarm')"
   ]
  },
  {
   "cell_type": "code",
   "execution_count": null,
   "id": "350426d2",
   "metadata": {},
   "outputs": [],
   "source": [
    "sns.set_context('talk', font_scale=2)\n",
    "sns.countplot(x='smoker', data=tips, palette='twilight')"
   ]
  },
  {
   "cell_type": "code",
   "execution_count": null,
   "id": "3363aa32",
   "metadata": {},
   "outputs": [],
   "source": []
  }
 ],
 "metadata": {
  "kernelspec": {
   "display_name": "Python 3 (ipykernel)",
   "language": "python",
   "name": "python3"
  },
  "language_info": {
   "codemirror_mode": {
    "name": "ipython",
    "version": 3
   },
   "file_extension": ".py",
   "mimetype": "text/x-python",
   "name": "python",
   "nbconvert_exporter": "python",
   "pygments_lexer": "ipython3",
   "version": "3.9.7"
  }
 },
 "nbformat": 4,
 "nbformat_minor": 5
}
